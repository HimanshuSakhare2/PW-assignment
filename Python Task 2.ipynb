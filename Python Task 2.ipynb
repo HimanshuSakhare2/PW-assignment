{
 "cells": [
  {
   "cell_type": "code",
   "execution_count": 2,
   "id": "1afadd33-2250-4a0d-8bdf-8d690e8543c1",
   "metadata": {},
   "outputs": [
    {
     "data": {
      "text/plain": [
       "'Q1. You are writing code for a company. The requirement of the company is that you create a python function that will check whether the password entered by\\nthe user is correct or not. The function should take the password as input and return the string “Valid Password” if the entered password follows the \\nbelow-given password guidelines else it should return “Invalid Password”.\\nNote: 1. The Password should contain at least two uppercase letters and at least two lowercase letters.\\n      2. The Password should contain at least a number and three special characters.\\n      3. The length of the password should be 10 characters long.'"
      ]
     },
     "execution_count": 2,
     "metadata": {},
     "output_type": "execute_result"
    }
   ],
   "source": [
    "\"\"\"Q1. You are writing code for a company. The requirement of the company is that you create a python function that will check whether the password entered by\n",
    "the user is correct or not. The function should take the password as input and return the string “Valid Password” if the entered password follows the \n",
    "below-given password guidelines else it should return “Invalid Password”.\n",
    "Note: 1. The Password should contain at least two uppercase letters and at least two lowercase letters.\n",
    "      2. The Password should contain at least a number and three special characters.\n",
    "      3. The length of the password should be 10 characters long.\"\"\""
   ]
  },
  {
   "cell_type": "code",
   "execution_count": 21,
   "id": "997118ba-6f2f-4d0c-b4b6-3c9e98d99f25",
   "metadata": {},
   "outputs": [],
   "source": [
    "def password_check() :\n",
    "    pswd = input(\"Please enter password: \")\n",
    "    count_lowercase = 0\n",
    "    count_uppercase = 0\n",
    "    count_number = 0\n",
    "    count_sp_char = 0\n",
    "    count_length = 0\n",
    "    for letter in pswd :\n",
    "        if ord(letter) >= 65 and ord(letter) <= 90 :\n",
    "            count_uppercase += 1\n",
    "        elif ord(letter) >= 97 and ord(letter) <= 122 :\n",
    "            count_lowercase += 1\n",
    "        elif ord(letter) >= 48 and ord(letter) <= 57 :\n",
    "            count_number += 1\n",
    "        else :\n",
    "            count_sp_char += 1\n",
    "    if count_lowercase >= 2 and count_uppercase >= 2 and count_number >= 1 and count_sp_char >= 3 and len(pswd) == 10:\n",
    "                        return(\"Valid Password\")\n",
    "    else:\n",
    "        return(\"Invalid Password\")\n",
    "            \n",
    "        \n",
    "    \n",
    "    "
   ]
  },
  {
   "cell_type": "code",
   "execution_count": 23,
   "id": "b96c0b6c-56c3-4ddd-bb6c-bbd6eade7de7",
   "metadata": {},
   "outputs": [
    {
     "name": "stdin",
     "output_type": "stream",
     "text": [
      "Please enter password:  dsjgl.djbd;f\n"
     ]
    },
    {
     "data": {
      "text/plain": [
       "'Invalid Password'"
      ]
     },
     "execution_count": 23,
     "metadata": {},
     "output_type": "execute_result"
    }
   ],
   "source": [
    "password_check()"
   ]
  },
  {
   "cell_type": "code",
   "execution_count": null,
   "id": "96d8fc66-ff38-46c3-9096-2b45cb0a7ddd",
   "metadata": {},
   "outputs": [],
   "source": [
    "\"\"\"Q2. Solve the below-given questions using at least one of the following: \n",
    "1. Lambda function\n",
    "2. Filter function\n",
    "3. Map function\n",
    "4. List Comprehension\n",
    "B Check if the string starts with a particular letter\n",
    "B Check if the string is numeric\n",
    "B Sort a list of tuples having fruit names and their quantity.[(\"mango\",99),(\"orange\",80),(\"grapes\",1000)\n",
    "B Find the squares of numbers from 1 to 10\n",
    "B Find the cube root of numbers from 1 to 10 \n",
    "B Check if a given number is even \n",
    "B Filter odd numbers from the given list.\n",
    "[1,2,3,4,5,6,7,8,9,10]\n",
    "B Sort a list of integers into positive and negative integers lists.\n",
    "[1,2,3,4,5,6,-1,-2,-3,-4,-5,0]\"\"\""
   ]
  },
  {
   "cell_type": "code",
   "execution_count": 1,
   "id": "fadc0a1a-68a5-4ed2-b127-f845633d0241",
   "metadata": {},
   "outputs": [],
   "source": [
    "#Check if the string starts with a particular letter\n",
    "starts_with = lambda x : True if x.startswith('P') else False"
   ]
  },
  {
   "cell_type": "code",
   "execution_count": 2,
   "id": "ba3ffd33-3a6a-43a6-97d2-169bcf006116",
   "metadata": {},
   "outputs": [
    {
     "name": "stdout",
     "output_type": "stream",
     "text": [
      "True\n"
     ]
    }
   ],
   "source": [
    "print(starts_with(\"Python\"))"
   ]
  },
  {
   "cell_type": "code",
   "execution_count": 3,
   "id": "cc18ce06-a287-4e37-a49c-9f5c505e1676",
   "metadata": {},
   "outputs": [],
   "source": [
    "#Check if the string is numeric\n",
    "numeric_value = lambda x1 : True if x1.isnumeric() else False"
   ]
  },
  {
   "cell_type": "code",
   "execution_count": 4,
   "id": "1b54386f-b964-4dcf-a98c-1dce5d1c3ea3",
   "metadata": {},
   "outputs": [
    {
     "name": "stdout",
     "output_type": "stream",
     "text": [
      "True\n"
     ]
    }
   ],
   "source": [
    "print(numeric_value(\"3456576\"))"
   ]
  },
  {
   "cell_type": "code",
   "execution_count": 5,
   "id": "1811550d-31cc-4394-975f-995cbe934ffa",
   "metadata": {},
   "outputs": [
    {
     "name": "stdout",
     "output_type": "stream",
     "text": [
      "False\n"
     ]
    }
   ],
   "source": [
    "print(numeric_value(\"sdagryj\"))"
   ]
  },
  {
   "cell_type": "code",
   "execution_count": 7,
   "id": "d5aabe92-19fc-4157-a018-f00719816225",
   "metadata": {},
   "outputs": [],
   "source": [
    "#Sort a list of tuples having fruit names and their quantity.[(\"mango\",99),(\"orange\",80),(\"grapes\",1000)]\n",
    "list2 = [(\"mango\",99),(\"orange\",80),(\"grapes\",1000)]\n",
    "def sort_fruits(list1):\n",
    "    return list1.sort()\n",
    "x = filter(sort_fruits, list2)\n",
    "#not finished"
   ]
  },
  {
   "cell_type": "code",
   "execution_count": 8,
   "id": "a306dabb-594d-46be-b7fb-c33793079601",
   "metadata": {},
   "outputs": [
    {
     "name": "stdout",
     "output_type": "stream",
     "text": [
      "<filter object at 0x7fe443f282b0>\n"
     ]
    }
   ],
   "source": [
    "print(x)"
   ]
  },
  {
   "cell_type": "code",
   "execution_count": 7,
   "id": "5047317d-d32c-48a1-8549-211d6d60e3a5",
   "metadata": {},
   "outputs": [
    {
     "data": {
      "text/plain": [
       "[1, 4, 9, 16, 25, 36, 49, 64, 81, 100]"
      ]
     },
     "execution_count": 7,
     "metadata": {},
     "output_type": "execute_result"
    }
   ],
   "source": [
    "#Find the squares of numbers from 1 to 10\n",
    "list(map(lambda a : a*a, range(1, 11)))"
   ]
  },
  {
   "cell_type": "code",
   "execution_count": 11,
   "id": "6d071b92-5c14-4395-a27e-d9993f744744",
   "metadata": {},
   "outputs": [
    {
     "data": {
      "text/plain": [
       "[1.0,\n",
       " 1.2599210498948732,\n",
       " 1.4422495703074083,\n",
       " 1.5874010519681994,\n",
       " 1.7099759466766968,\n",
       " 1.8171205928321397,\n",
       " 1.912931182772389,\n",
       " 2.0,\n",
       " 2.080083823051904,\n",
       " 2.154434690031884]"
      ]
     },
     "execution_count": 11,
     "metadata": {},
     "output_type": "execute_result"
    }
   ],
   "source": [
    "#Find the cube root of numbers from 1 to 10\n",
    "list(map(lambda a : a**(1/3) , range(1,11)))"
   ]
  },
  {
   "cell_type": "code",
   "execution_count": 15,
   "id": "b531fad4-cb56-4471-aea9-68e0331cd271",
   "metadata": {},
   "outputs": [],
   "source": [
    "#Check if a given number is even\n",
    "num_even = lambda num : True if num % 2 == 0 else False"
   ]
  },
  {
   "cell_type": "code",
   "execution_count": 16,
   "id": "5fb47f00-d252-4d60-b97a-85d24b1aa5fc",
   "metadata": {},
   "outputs": [
    {
     "data": {
      "text/plain": [
       "True"
      ]
     },
     "execution_count": 16,
     "metadata": {},
     "output_type": "execute_result"
    }
   ],
   "source": [
    "num_even(2)"
   ]
  },
  {
   "cell_type": "code",
   "execution_count": 17,
   "id": "f4b4ed6a-d8e9-490a-b925-af801cbec1c2",
   "metadata": {},
   "outputs": [
    {
     "data": {
      "text/plain": [
       "False"
      ]
     },
     "execution_count": 17,
     "metadata": {},
     "output_type": "execute_result"
    }
   ],
   "source": [
    "num_even(3)"
   ]
  },
  {
   "cell_type": "code",
   "execution_count": 5,
   "id": "5b233750-6f06-4784-8020-1d534dbff516",
   "metadata": {},
   "outputs": [],
   "source": [
    "#Filter odd numbers from the given list\n",
    "l1 = [1,2,3,4,5,6,7,8,9,10]\n",
    "odd_num = filter(lambda y : y % 2 == 1, l1)"
   ]
  },
  {
   "cell_type": "code",
   "execution_count": 13,
   "id": "ac0bb53f-141b-472d-baea-2ca4bfb6b23a",
   "metadata": {},
   "outputs": [
    {
     "name": "stdout",
     "output_type": "stream",
     "text": [
      "[1, 3, 5, 7, 9]\n"
     ]
    }
   ],
   "source": [
    "print(list(odd_num))"
   ]
  },
  {
   "cell_type": "code",
   "execution_count": 22,
   "id": "63a48737-a255-4994-92fa-0f0737c289b8",
   "metadata": {},
   "outputs": [],
   "source": [
    "#Sort a list of integers into positive and negative integers lists.\n",
    "l2 = [1,2,3,4,5,6,-1,-2,-3,-4,-5,0]\n",
    "positive_integers = [x for x in l2 if x > 0]\n",
    "negati"
   ]
  },
  {
   "cell_type": "code",
   "execution_count": 24,
   "id": "c55374c7-660f-4d76-86b0-d6ae76a83597",
   "metadata": {},
   "outputs": [
    {
     "name": "stdout",
     "output_type": "stream",
     "text": [
      "[1, 2, 3, 4, 5, 6]\n"
     ]
    }
   ],
   "source": [
    "print(positive_integers)"
   ]
  },
  {
   "cell_type": "code",
   "execution_count": null,
   "id": "c3d64938-4547-4824-8160-331f00c0e78b",
   "metadata": {},
   "outputs": [],
   "source": []
  }
 ],
 "metadata": {
  "kernelspec": {
   "display_name": "Python 3 (ipykernel)",
   "language": "python",
   "name": "python3"
  },
  "language_info": {
   "codemirror_mode": {
    "name": "ipython",
    "version": 3
   },
   "file_extension": ".py",
   "mimetype": "text/x-python",
   "name": "python",
   "nbconvert_exporter": "python",
   "pygments_lexer": "ipython3",
   "version": "3.10.8"
  }
 },
 "nbformat": 4,
 "nbformat_minor": 5
}
