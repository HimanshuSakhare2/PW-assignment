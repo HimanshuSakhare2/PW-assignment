{
 "cells": [
  {
   "cell_type": "code",
   "execution_count": 4,
   "id": "60798d38-fc1e-4d81-b97b-d2e757c2f5e3",
   "metadata": {},
   "outputs": [
    {
     "name": "stdout",
     "output_type": "stream",
     "text": [
      "Hello world\n",
      "Hello world\n",
      "Hello world\n",
      "Hello world\n",
      "Hello world\n",
      "Hello world\n",
      "Hello world\n",
      "Hello world\n",
      "Hello world\n",
      "Hello world\n"
     ]
    }
   ],
   "source": [
    "#for loop\n",
    "#for loop is used whenever we know the number of iterations\n",
    "#for loop is used when the loop is finite\n",
    "#Ex: You have to print \"Hello world\" 10 times then you will use for loop\n",
    "for num in range(1,11):\n",
    "    print(\"Hello world\")"
   ]
  },
  {
   "cell_type": "code",
   "execution_count": 7,
   "id": "8d10ec6d-9736-4bc2-a92b-7961440c605c",
   "metadata": {},
   "outputs": [
    {
     "name": "stdin",
     "output_type": "stream",
     "text": [
      "Enter value:  rsg\n"
     ]
    },
    {
     "name": "stdout",
     "output_type": "stream",
     "text": [
      "Please enter Hello world\n"
     ]
    },
    {
     "name": "stdin",
     "output_type": "stream",
     "text": [
      "Enter value:  Hello world\n"
     ]
    },
    {
     "name": "stdout",
     "output_type": "stream",
     "text": [
      "Hello world\n"
     ]
    }
   ],
   "source": [
    "#while loop\n",
    "#while loop is used whenever we don't know the number of iterations but we know the stoping condition\n",
    "#while loop can be used when the loop is infinite\n",
    "#Ex: You want to print \"Hello world\" by asking the user to input it in python. You will only print when the user has entered \"Hello world\"\n",
    "while True:\n",
    "    value = input(\"Enter value: \")\n",
    "    if value == \"Hello world\" :\n",
    "        print(value)\n",
    "        break\n",
    "    else:\n",
    "        print(\"Please enter Hello world\")\n",
    "        continue\n",
    "        "
   ]
  },
  {
   "cell_type": "code",
   "execution_count": 7,
   "id": "d6f92f52-6ca0-4fd9-840e-2267c2c5e968",
   "metadata": {},
   "outputs": [
    {
     "name": "stdout",
     "output_type": "stream",
     "text": [
      "The sum of first 10 natural numbers:  55\n",
      "The product of first 10 natural numbers:  3628800\n"
     ]
    }
   ],
   "source": [
    "#Write a python program to print the sum and product of the first 10 natural numbers using for loop\n",
    "sum_num = 0\n",
    "product_num = 1\n",
    "for value in range(1,11):\n",
    "    sum_num = sum_num + value\n",
    "    product_num = product_num * value\n",
    "print(\"The sum of first 10 natural numbers: \", sum_num)\n",
    "print(\"The product of first 10 natural numbers: \", product_num)"
   ]
  },
  {
   "cell_type": "code",
   "execution_count": 2,
   "id": "2550fdfe-82d0-4cba-a141-9e74a2c0f4b8",
   "metadata": {},
   "outputs": [
    {
     "name": "stdout",
     "output_type": "stream",
     "text": [
      "The sum of first 10 natural numbers:  55\n",
      "The product of first 10 natural numbers:  3628800\n"
     ]
    }
   ],
   "source": [
    "#Write a python program to print the sum and product of the first 10 natural numbers using while loop\n",
    "sum_num = 0\n",
    "product_num = 1\n",
    "value = 1\n",
    "while value <= 10:\n",
    "    sum_num = sum_num + value\n",
    "    product_num = product_num * value\n",
    "    value = value + 1\n",
    "print(\"The sum of first 10 natural numbers: \", sum_num)\n",
    "print(\"The product of first 10 natural numbers: \", product_num)"
   ]
  },
  {
   "cell_type": "code",
   "execution_count": 9,
   "id": "e70da728-e430-43e5-ac45-daf56b3736bc",
   "metadata": {},
   "outputs": [
    {
     "name": "stdin",
     "output_type": "stream",
     "text": [
      "Please enter the number of units consumed:  310\n"
     ]
    },
    {
     "name": "stdout",
     "output_type": "stream",
     "text": [
      "Total electricity bill is:  2250.0\n"
     ]
    }
   ],
   "source": [
    "#Create a python program to compute the electricity bill for a household.\n",
    "# The per-unit charges in rupees are as follows: For the first 100 units, the user will be charged Rs. 4.5 per\n",
    "# unit, for the next 100 units, the user will be charged Rs. 6 per unit, and for the next 100 units, the user will\n",
    "# be charged Rs. 10 per unit, After 300 units and above the user will be charged Rs. 20 per unit.\n",
    "# You are required to take the units of electricity consumed in a month from the user as input.\n",
    "# Your program must pass this test case: when the unit of electricity consumed by the user in a month is\n",
    "# 310, the total electricity bill should be 2250.\n",
    "units = int(input(\"Please enter the number of units consumed: \"))\n",
    "total_bill = 0\n",
    "charge_100 = 4.5\n",
    "charge_200 = 6\n",
    "charge_300 = 10\n",
    "charge_300p = 20\n",
    "if units <= 100:\n",
    "    total_bill = units * charge_100\n",
    "elif units <= 200:\n",
    "    total_bill = (100 * charge_100) + ((units - 100) * charge_200)\n",
    "elif units <= 300:\n",
    "    total_bill = (100 * charge_100) + (100 * charge_200) + ((units - 200) * charge_300)\n",
    "else:\n",
    "    total_bill = (100 * charge_100) + (100 * charge_200) + (100 * charge_300) + ((units - 300) * charge_300p)\n",
    "print(\"Total electricity bill is: \", total_bill)\n",
    "    "
   ]
  },
  {
   "cell_type": "code",
   "execution_count": null,
   "id": "3f04066f-c426-4b97-85fb-37ac6b1a32bd",
   "metadata": {},
   "outputs": [],
   "source": [
    "# Create a list of numbers from 1 to 100. Use for loop and while loop to calculate the cube of each\n",
    "# number and if the cube of that number is divisible by 4 or 5 then append that number in a list and print\n",
    "# that list.\n",
    "\n",
    "# for loop:\n",
    "list1 = list(range(1,101))\n",
    "list2 = []\n",
    "for i in list1: \n",
    "    cube = i ** 3\n",
    "    if cube % 4 == 0 or cube % 5 == 0:\n",
    "        list2.append(i)\n",
    "print(list2)"
   ]
  },
  {
   "cell_type": "code",
   "execution_count": null,
   "id": "e20a60d4-b2e8-4bd0-84bb-0911805be51e",
   "metadata": {},
   "outputs": [],
   "source": [
    "# while loop:\n",
    "list1 = list(range(1,101))\n",
    "list2 = []\n",
    "i = 0\n",
    "while i < len(list1):\n",
    "    cube = list1[i] ** 3\n",
    "    if cube % 4 == 0 or cube % 5 == 0:\n",
    "        list2.append(i)\n",
    "print(list2)"
   ]
  },
  {
   "cell_type": "code",
   "execution_count": null,
   "id": "db33b092-a865-47f5-a647-3b436d4d80e7",
   "metadata": {},
   "outputs": [],
   "source": [
    "#Write a program to filter count vowels in the below-given string.\n",
    "#string = \"I want to become a data scientist\"\n",
    "\n",
    "num = 0\n",
    "string = \"I want to become a data scientist\"\n",
    "vowels = 'aeiouAEIOU'\n",
    "\n",
    "for i in string:\n",
    "    if i in vowels:\n",
    "        num += 1\n",
    "print(\"Number of vowels in string: \", num)"
   ]
  },
  {
   "cell_type": "code",
   "execution_count": null,
   "id": "5d0bea4c-2562-4e63-8712-45caa5150466",
   "metadata": {},
   "outputs": [],
   "source": []
  }
 ],
 "metadata": {
  "kernelspec": {
   "display_name": "Python 3 (ipykernel)",
   "language": "python",
   "name": "python3"
  },
  "language_info": {
   "codemirror_mode": {
    "name": "ipython",
    "version": 3
   },
   "file_extension": ".py",
   "mimetype": "text/x-python",
   "name": "python",
   "nbconvert_exporter": "python",
   "pygments_lexer": "ipython3",
   "version": "3.10.8"
  }
 },
 "nbformat": 4,
 "nbformat_minor": 5
}
