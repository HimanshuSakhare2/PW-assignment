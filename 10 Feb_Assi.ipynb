{
 "cells": [
  {
   "cell_type": "code",
   "execution_count": 1,
   "id": "a13c7dc2-0197-427a-aa9f-b7ccd703a283",
   "metadata": {},
   "outputs": [
    {
     "data": {
      "text/plain": [
       "'In Python, the built-in open() function is used to open a file. The open() function returns a file object that \\nprovides methods for working with the file.\\n\\nThe different modes of opening a file in Python are:\\n\\n1. \"r\" (Read mode): This is the default mode for opening a file. In this mode, the file is opened for reading only, \\nand an error will occur if the file does not exist. For example: file = open(\"example.txt\", \"r\").\\n\\n2. \"w\" (Write mode): In this mode, the file is opened for writing. If the file already exists, its contents will be truncated, \\nand if it doesn\\'t exist, a new file will be created. For example: file = open(\"example.txt\", \"w\").\\n\\n3. \"a\" (Append mode): In this mode, the file is opened for appending. If the file already exists, new data will be written to\\nthe end of the file. If it doesn\\'t exist, a new file will be created. For example: file = open(\"example.txt\", \"a\").\\n\\n4. \"x\" (Exclusive creation mode): In this mode, the file is opened for writing, but only if the file does not already exist. \\nIf the file exists, an error will occur. For example: file = open(\"example.txt\", \"x\").\\n\\n5. \"b\" (Binary mode): This mode is used to open binary files like images, videos, etc. For example: file = open(\"example.jpg\", \"rb\").\\n\\n6. \"t\" (Text mode): This mode is used to open text files in a readable format. This is the default mode when opening a file in Python. \\nFor example: file = open(\"example.txt\", \"rt\").\\n\\n7. \"+\" (Read and Write mode): This mode is used to open a file for both reading and writing. For example: file = open(\"example.txt\", \"r+\").\\n\\nWhen opening a file, you can combine the modes by concatenating them, for example, \"w+\" would open the file for both reading and writing,\\nand if the file doesn\\'t exist, it would be created.'"
      ]
     },
     "execution_count": 1,
     "metadata": {},
     "output_type": "execute_result"
    }
   ],
   "source": [
    "\"\"\"Q1. Which function is used to open a file? What are the different modes of opening a file? Explain each mode\n",
    "of file opening.\"\"\"\n",
    "\n",
    "\"\"\"In Python, the built-in open() function is used to open a file. The open() function returns a file object that \n",
    "provides methods for working with the file.\n",
    "\n",
    "The different modes of opening a file in Python are:\n",
    "\n",
    "1. \"r\" (Read mode): This is the default mode for opening a file. In this mode, the file is opened for reading only, \n",
    "and an error will occur if the file does not exist. For example: file = open(\"example.txt\", \"r\").\n",
    "\n",
    "2. \"w\" (Write mode): In this mode, the file is opened for writing. If the file already exists, its contents will be truncated, \n",
    "and if it doesn't exist, a new file will be created. For example: file = open(\"example.txt\", \"w\").\n",
    "\n",
    "3. \"a\" (Append mode): In this mode, the file is opened for appending. If the file already exists, new data will be written to\n",
    "the end of the file. If it doesn't exist, a new file will be created. For example: file = open(\"example.txt\", \"a\").\n",
    "\n",
    "4. \"x\" (Exclusive creation mode): In this mode, the file is opened for writing, but only if the file does not already exist. \n",
    "If the file exists, an error will occur. For example: file = open(\"example.txt\", \"x\").\n",
    "\n",
    "5. \"b\" (Binary mode): This mode is used to open binary files like images, videos, etc. For example: file = open(\"example.jpg\", \"rb\").\n",
    "\n",
    "6. \"t\" (Text mode): This mode is used to open text files in a readable format. This is the default mode when opening a file in Python. \n",
    "For example: file = open(\"example.txt\", \"rt\").\n",
    "\n",
    "7. \"+\" (Read and Write mode): This mode is used to open a file for both reading and writing. For example: file = open(\"example.txt\", \"r+\").\n",
    "\n",
    "When opening a file, you can combine the modes by concatenating them, for example, \"w+\" would open the file for both reading and writing,\n",
    "and if the file doesn't exist, it would be created.\"\"\"\n"
   ]
  },
  {
   "cell_type": "code",
   "execution_count": 2,
   "id": "c3b277ed-77b4-456e-b9b9-93a3bc0c82e2",
   "metadata": {},
   "outputs": [
    {
     "data": {
      "text/plain": [
       "'In Python, the close() function is used to close an open file. It is important to close a file after it has been opened \\nbecause the close() function is important to ensure that system resources are released, data integrity is maintained, other \\nprograms can access the file, and changes are saved. It is a good practice to always close files after using them, to prevent \\nerrors and ensure proper functioning of your program.'"
      ]
     },
     "execution_count": 2,
     "metadata": {},
     "output_type": "execute_result"
    }
   ],
   "source": [
    "\"\"\"Q2. Why close() function is used? Why is it important to close a file?\"\"\"\n",
    "\n",
    "\"\"\"In Python, the close() function is used to close an open file. It is important to close a file after it has been opened \n",
    "because the close() function is important to ensure that system resources are released, data integrity is maintained, other \n",
    "programs can access the file, and changes are saved. It is a good practice to always close files after using them, to prevent \n",
    "errors and ensure proper functioning of your program.\"\"\""
   ]
  },
  {
   "cell_type": "code",
   "execution_count": 5,
   "id": "09d12f42-31dc-4264-9359-adc7d61847e2",
   "metadata": {},
   "outputs": [
    {
     "name": "stdout",
     "output_type": "stream",
     "text": [
      "I want to become a Data Scientist\n"
     ]
    }
   ],
   "source": [
    "\"\"\"Q3. Write a python program to create a text file. Write ‘I want to become a Data Scientist’ in that file. Then\n",
    "close the file. Open this file and read the content of the file.\"\"\"\n",
    "\n",
    "file1 = open(\"file1.txt\", \"w+\")\n",
    "file1.write(\"I want to become a Data Scientist\")\n",
    "file1.close()\n",
    "\n",
    "file2 = open(\"file1.txt\", \"r\")\n",
    "print(file2.read())\n",
    "file2.close()\n"
   ]
  },
  {
   "cell_type": "code",
   "execution_count": 7,
   "id": "2c6a5616-b4aa-4f78-890e-65ccf95beccf",
   "metadata": {},
   "outputs": [
    {
     "name": "stdin",
     "output_type": "stream",
     "text": [
      "Enter the name of the employee:  xdvlbj\n",
      "Enter the name of the employee:  dfskbj;\n",
      "Enter the name of the employee:  sdgvb\n"
     ]
    },
    {
     "name": "stdout",
     "output_type": "stream",
     "text": [
      "Data is written into the file.\n"
     ]
    }
   ],
   "source": [
    "\"\"\"Q6. Explain the write() and writelines() functions. Give a suitable example.\"\"\"\n",
    "\n",
    "#The write() function will write the content in the file without adding any extra characters.\n",
    "file = open(\"Employees.txt\", \"w\")\n",
    "\n",
    "for i in range(3):\n",
    "    name = input(\"Enter the name of the employee: \")\n",
    "    file.write(name)\n",
    "    file.write(\"\\n\")\n",
    "\t\n",
    "file.close()\n",
    "\n",
    "print(\"Data is written into the file.\")\n"
   ]
  },
  {
   "cell_type": "code",
   "execution_count": null,
   "id": "489dde23-0c1a-40d5-a1d9-c09aef70a106",
   "metadata": {},
   "outputs": [],
   "source": [
    "This function writes the content of a list to a file."
   ]
  }
 ],
 "metadata": {
  "kernelspec": {
   "display_name": "Python 3 (ipykernel)",
   "language": "python",
   "name": "python3"
  },
  "language_info": {
   "codemirror_mode": {
    "name": "ipython",
    "version": 3
   },
   "file_extension": ".py",
   "mimetype": "text/x-python",
   "name": "python",
   "nbconvert_exporter": "python",
   "pygments_lexer": "ipython3",
   "version": "3.10.8"
  }
 },
 "nbformat": 4,
 "nbformat_minor": 5
}
