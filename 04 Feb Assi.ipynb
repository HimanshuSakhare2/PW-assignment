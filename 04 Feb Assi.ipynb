{
 "cells": [
  {
   "cell_type": "code",
   "execution_count": 6,
   "id": "39b4c1fb-374f-470c-a635-2f12ce5f9e7e",
   "metadata": {},
   "outputs": [
    {
     "data": {
      "text/plain": [
       "[('Virat Kohli', 24936),\n",
       " ('Jack Kallis', 25534),\n",
       " ('Ricky Ponting', 27483),\n",
       " ('Sachin Tendulkar', 34357)]"
      ]
     },
     "execution_count": 6,
     "metadata": {},
     "output_type": "execute_result"
    }
   ],
   "source": [
    "# Create a python program to sort the given list of tuples based on integer value using a lambda function.\n",
    "# [('Sachin Tendulkar', 34357), ('Ricky Ponting', 27483), ('Jack Kallis', 25534), ('Virat Kohli', 24936)]\n",
    "\n",
    "l = [('Sachin Tendulkar', 34357), ('Ricky Ponting', 27483), ('Jack Kallis', 25534), ('Virat Kohli', 24936)]\n",
    "sorted(l, key= lambda x: x[1])"
   ]
  },
  {
   "cell_type": "code",
   "execution_count": 2,
   "id": "3303ba0c-4235-411b-9c42-24d1f940fd99",
   "metadata": {},
   "outputs": [
    {
     "data": {
      "text/plain": [
       "[1, 4, 9, 16, 25, 36, 49, 64, 81, 100]"
      ]
     },
     "execution_count": 2,
     "metadata": {},
     "output_type": "execute_result"
    }
   ],
   "source": [
    "# Write a python program to find the squares of all the numbers in the given list of integers using lambda and map functions.\n",
    "\n",
    "l1 = [1,2,3,4,5,6,7,8,9,10]\n",
    "\n",
    "list(map(lambda x : x**2, l1)) "
   ]
  },
  {
   "cell_type": "code",
   "execution_count": 5,
   "id": "b6049281-6db6-4e7e-ace2-866173775de1",
   "metadata": {},
   "outputs": [
    {
     "name": "stdout",
     "output_type": "stream",
     "text": [
      "('1', '2', '3', '4', '5', '6', '7', '8', '9', '10')\n"
     ]
    }
   ],
   "source": [
    "# Write a python program to convert the given list of integers into a tuple of strings. Use map and lambda functions\n",
    "# Given String: [1, 2, 3, 4, 5, 6, 7, 8, 9, 10]\n",
    "# Expected output: ('1', '2', '3', '4', '5', '6', '7', '8', '9', '10')\n",
    "l2 = [1, 2, 3, 4, 5, 6, 7, 8, 9, 10]\n",
    "l3 = tuple(list(map(lambda x: (str(x)), l2)))\n",
    "print(l3)"
   ]
  },
  {
   "cell_type": "code",
   "execution_count": 15,
   "id": "344b4b37-93e5-4527-8af0-3de2f07fc483",
   "metadata": {},
   "outputs": [
    {
     "data": {
      "text/plain": [
       "15511210043330985984000000"
      ]
     },
     "execution_count": 15,
     "metadata": {},
     "output_type": "execute_result"
    }
   ],
   "source": [
    "# Write a python program using reduce function to compute the product of a list containing numbers from 1 to 25.\n",
    "\n",
    "from functools import reduce\n",
    "l4 = list(range(1, 26))\n",
    "reduce(lambda x, y : x*y, l4)"
   ]
  },
  {
   "cell_type": "code",
   "execution_count": 17,
   "id": "c0a2fbb0-99e3-4a60-93f6-5aa201977307",
   "metadata": {},
   "outputs": [
    {
     "data": {
      "text/plain": [
       "[6, 60, 90, 120]"
      ]
     },
     "execution_count": 17,
     "metadata": {},
     "output_type": "execute_result"
    }
   ],
   "source": [
    "# Write a python program to filter the numbers in a given list that are divisible by 2 and 3 using the filter function.\n",
    "l5 = [2, 3, 6, 9, 27, 60, 90, 120, 55, 46]\n",
    "list(filter(lambda x: x%2 == 0 and x%3 == 0, l5))"
   ]
  },
  {
   "cell_type": "code",
   "execution_count": 18,
   "id": "b3d33e0e-9bd8-4734-895f-8eff514de6db",
   "metadata": {},
   "outputs": [
    {
     "name": "stdout",
     "output_type": "stream",
     "text": [
      "['python', 'php', 'aba', 'radar', 'level']\n"
     ]
    }
   ],
   "source": [
    "# Write a python program to find palindromes in the given list of strings using lambda and filter function.\n",
    "\n",
    "word_list = ['python', 'php', 'aba', 'radar', 'level']\n",
    "palindrome_list = list(filter(lambda x: x[::-1], word_list))\n",
    "print(palindrome_list)\n"
   ]
  },
  {
   "cell_type": "code",
   "execution_count": null,
   "id": "b072ebcd-8537-41c1-ae8f-133074bb27bc",
   "metadata": {},
   "outputs": [],
   "source": []
  }
 ],
 "metadata": {
  "kernelspec": {
   "display_name": "Python 3 (ipykernel)",
   "language": "python",
   "name": "python3"
  },
  "language_info": {
   "codemirror_mode": {
    "name": "ipython",
    "version": 3
   },
   "file_extension": ".py",
   "mimetype": "text/x-python",
   "name": "python",
   "nbconvert_exporter": "python",
   "pygments_lexer": "ipython3",
   "version": "3.10.8"
  }
 },
 "nbformat": 4,
 "nbformat_minor": 5
}
