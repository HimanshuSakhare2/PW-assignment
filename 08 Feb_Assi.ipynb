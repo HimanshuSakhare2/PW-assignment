{
 "cells": [
  {
   "cell_type": "code",
   "execution_count": 1,
   "id": "d1d9f784-2cc0-4056-aab2-cfa8ea22c5fb",
   "metadata": {},
   "outputs": [
    {
     "data": {
      "text/plain": [
       "'Q1. What is Abstraction in OOps? Explain with an example.\\nQ2. Differentiate between Abstraction and Encapsulation. Explain with an example.\\nQ3. What is abc module in python? Why is it used?\\nQ4. How can we achieve data abstraction?\\nQ5. Can we create an instance of an abstract class? Explain your answer.'"
      ]
     },
     "execution_count": 1,
     "metadata": {},
     "output_type": "execute_result"
    }
   ],
   "source": [
    "\"\"\"Q1. What is Abstraction in OOps? Explain with an example.\n",
    "Q2. Differentiate between Abstraction and Encapsulation. Explain with an example.\n",
    "Q3. What is abc module in python? Why is it used?\n",
    "Q4. How can we achieve data abstraction?\n",
    "Q5. Can we create an instance of an abstract class? Explain your answer.\"\"\""
   ]
  },
  {
   "cell_type": "code",
   "execution_count": 2,
   "id": "2b136829-1336-45be-b806-fecda2c4de3c",
   "metadata": {},
   "outputs": [
    {
     "data": {
      "text/plain": [
       "'Ans: OOPs uses abstraction to separate the interface of an object from its implementation. It defines external behaviour of an object \\nand encapsulates its internal workings. \\nExample : When you enter your log in id and password in any website, the process of the details going to the server and being verified there \\nis hidden from you. '"
      ]
     },
     "execution_count": 2,
     "metadata": {},
     "output_type": "execute_result"
    }
   ],
   "source": [
    "#Q1. What is Abstraction in OOps? Explain with an example.\n",
    "\"\"\"Ans: OOPs uses abstraction to separate the interface of an object from its implementation. It defines external behaviour of an object \n",
    "and encapsulates its internal workings. \n",
    "Example : When you enter your log in id and password in any website, the process of the details going to the server and being verified there \n",
    "is hidden from you. \"\"\""
   ]
  },
  {
   "cell_type": "code",
   "execution_count": 1,
   "id": "c7b84418-9602-4909-bf27-a9036cfff722",
   "metadata": {},
   "outputs": [
    {
     "data": {
      "text/plain": [
       "'Ans: Abstraction is a way of representing some specific data. Encapsulation is a way of hiding the complexity of something and exposing only\\nthe parts you wish to expose. Abstraction is focused mainly on what should be done, while Encapsulation is focused on how it should be done.'"
      ]
     },
     "execution_count": 1,
     "metadata": {},
     "output_type": "execute_result"
    }
   ],
   "source": [
    "#Q2. Differentiate between Abstraction and Encapsulation. Explain with an example.\n",
    "\"\"\"Ans: Abstraction is a way of representing some specific data. Encapsulation is a way of hiding the complexity of something and exposing only\n",
    "the parts you wish to expose. Abstraction is focused mainly on what should be done, while Encapsulation is focused on how it should be done.\"\"\""
   ]
  },
  {
   "cell_type": "code",
   "execution_count": 2,
   "id": "922a8c46-f0f2-45da-83e8-9802ce48a151",
   "metadata": {},
   "outputs": [
    {
     "data": {
      "text/plain": [
       "'Ans: acb module is the abstract base class in python. The main goal of the abstract base class is to provide a standardized way \\nto test whether an object adheres to a given specification. It can also prevent any attempt to instantiate a subclass that doesn’t \\noverride a particular method in the superclass. And finally, using an abstract class, a class can derive identity from another \\nclass without any object inheritance.'"
      ]
     },
     "execution_count": 2,
     "metadata": {},
     "output_type": "execute_result"
    }
   ],
   "source": [
    "#Q3. What is abc module in python? Why is it used?\n",
    "\"\"\"Ans: acb module is the abstract base class in python. The main goal of the abstract base class is to provide a standardized way \n",
    "to test whether an object adheres to a given specification. It can also prevent any attempt to instantiate a subclass that doesn’t \n",
    "override a particular method in the superclass. And finally, using an abstract class, a class can derive identity from another \n",
    "class without any object inheritance.\"\"\""
   ]
  },
  {
   "cell_type": "code",
   "execution_count": 3,
   "id": "a596936d-c654-43ca-b767-8cdd65dec6ff",
   "metadata": {},
   "outputs": [
    {
     "data": {
      "text/plain": [
       "'Ans: Data Abstraction in Python can be achieved through creating abstract classes and inheriting them later.'"
      ]
     },
     "execution_count": 3,
     "metadata": {},
     "output_type": "execute_result"
    }
   ],
   "source": [
    "#Q4. How can we achieve data abstraction?\n",
    "\"\"\"Ans: Data Abstraction in Python can be achieved through creating abstract classes and inheriting them later.\"\"\""
   ]
  },
  {
   "cell_type": "code",
   "execution_count": 4,
   "id": "6b76749f-fb45-4a2d-9a1c-7fa8fccd140f",
   "metadata": {},
   "outputs": [
    {
     "data": {
      "text/plain": [
       "'Ans:No, we can not create an instance of an abstract class. Abstract classes are not complete, as they may have some methods \\nthat are not defined. So we cannot create an instance or object of an abstract class in Python. If we try to instantiate the \\nabstract class, it raises an error.'"
      ]
     },
     "execution_count": 4,
     "metadata": {},
     "output_type": "execute_result"
    }
   ],
   "source": [
    "#Q5. Can we create an instance of an abstract class? Explain your answer.\n",
    "\"\"\"Ans:No, we can not create an instance of an abstract class. Abstract classes are not complete, as they may have some methods \n",
    "that are not defined. So we cannot create an instance or object of an abstract class in Python. If we try to instantiate the \n",
    "abstract class, it raises an error.\"\"\""
   ]
  },
  {
   "cell_type": "code",
   "execution_count": null,
   "id": "8a197dd3-aa5c-4296-8763-1a8b95964f39",
   "metadata": {},
   "outputs": [],
   "source": []
  }
 ],
 "metadata": {
  "kernelspec": {
   "display_name": "Python 3 (ipykernel)",
   "language": "python",
   "name": "python3"
  },
  "language_info": {
   "codemirror_mode": {
    "name": "ipython",
    "version": 3
   },
   "file_extension": ".py",
   "mimetype": "text/x-python",
   "name": "python",
   "nbconvert_exporter": "python",
   "pygments_lexer": "ipython3",
   "version": "3.10.8"
  }
 },
 "nbformat": 4,
 "nbformat_minor": 5
}
