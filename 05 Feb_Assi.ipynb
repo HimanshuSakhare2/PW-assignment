{
 "cells": [
  {
   "cell_type": "code",
   "execution_count": 1,
   "id": "b92c7a11-5f13-4931-b64e-12d50eb4a512",
   "metadata": {},
   "outputs": [
    {
     "data": {
      "text/plain": [
       "'Class is a classification of real world entity and an object is called an instance of a class. \\nA class is a blueprint of the objects and the object is and entity that has certain attributes and behaviours.\\nEx. Lets say we have 11 cricketers (players) in a cricket team. In this case Cricketer will become the class which will have\\nplayer 1, player 2, ...., player 11 as the object in the class.'"
      ]
     },
     "execution_count": 1,
     "metadata": {},
     "output_type": "execute_result"
    }
   ],
   "source": [
    "#Q1. Explain Class and Object with respect to Object-Oriented Programming. Give a suitable example.\n",
    "\n",
    "\"\"\"Class is a classification of real world entity and an object is called an instance of a class. \n",
    "A class is a blueprint of the objects and the object is and entity that has certain attributes and behaviours.\n",
    "Ex. Lets say we have 11 cricketers (players) in a cricket team. In this case Cricketer will become the class which will have\n",
    "player 1, player 2, ...., player 11 as the object in the class.\"\"\""
   ]
  },
  {
   "cell_type": "code",
   "execution_count": 7,
   "id": "3e7c45b1-0f47-4166-9739-c5fad5355c6c",
   "metadata": {},
   "outputs": [
    {
     "data": {
      "text/plain": [
       "'Four pillars of OOPs are: Inheritance, Polymorphism, Encapsulation and Abstraction'"
      ]
     },
     "execution_count": 7,
     "metadata": {},
     "output_type": "execute_result"
    }
   ],
   "source": [
    "#Q2. Name the four pillars of OOPs.\n",
    "\n",
    "\"\"\"Four pillars of OOPs are: Inheritance, Polymorphism, Encapsulation and Abstraction\"\"\""
   ]
  },
  {
   "cell_type": "code",
   "execution_count": 8,
   "id": "267105cc-8aea-4bcf-afec-141ace6bb3a0",
   "metadata": {},
   "outputs": [
    {
     "data": {
      "text/plain": [
       "'__init__ is a constructor function that helps to pass data inside any class. It is helpful in defining the attributes that are required \\nin an object in a particular function.\\nEx. Suppose you have created a class of \"Students\" and the necessary attributes for student class are student_id and email_id. So whenever \\nyou have to add an object in this class you will have to mention student_id and email_id everytime you assign an object to this class.'"
      ]
     },
     "execution_count": 8,
     "metadata": {},
     "output_type": "execute_result"
    }
   ],
   "source": [
    "#Q3. Explain why the __init__() function is used. Give a suitable example.\n",
    "\n",
    "\"\"\"__init__ is a constructor function that helps to pass data inside any class. It is helpful in defining the attributes that are required \n",
    "in an object in a particular function.\n",
    "Ex. Suppose you have created a class of \"Students\" and the necessary attributes for student class are student_id and email_id. So whenever \n",
    "you have to add an object in this class you will have to mention student_id and email_id everytime you assign an object to this class.\"\"\"\n"
   ]
  },
  {
   "cell_type": "code",
   "execution_count": 9,
   "id": "e0351e60-21b3-4ab7-99c0-fa12878e3339",
   "metadata": {},
   "outputs": [
    {
     "data": {
      "text/plain": [
       "'The self parameter is used to refer to the instance attributes and methods of the class. \\nThe self variable in Python can also be used to access a variable field within the class definition.'"
      ]
     },
     "execution_count": 9,
     "metadata": {},
     "output_type": "execute_result"
    }
   ],
   "source": [
    "#Q4. Why self is used in OOPs?\n",
    "\n",
    "\"\"\"The self parameter is used to refer to the instance attributes and methods of the class. \n",
    "The self variable in Python can also be used to access a variable field within the class definition.\"\"\"\n"
   ]
  },
  {
   "cell_type": "code",
   "execution_count": 11,
   "id": "ea3e670d-f676-4e93-8203-f7118a9e7426",
   "metadata": {},
   "outputs": [],
   "source": [
    "#Q5. What is inheritance? Give an example for each type of inheritance.\n",
    "\n",
    "\"\"\"Inheritance is defined as the mechanism of inheriting the properties of the base class to the child class. There are five types\n",
    "of inheritance: Single inheritance, Multiple inheritance, Multilevel inheritance, Hierarchical inheritance and Hybrid inheritance.\n"
   ]
  },
  {
   "cell_type": "code",
   "execution_count": 7,
   "id": "61e283fc-b063-4087-b517-2a769f7d165b",
   "metadata": {},
   "outputs": [],
   "source": [
    "\"\"\"Examples of Inheritance: \"\"\"\n",
    "#Single inheritance : In single inheritance, a derived class inherits properties from a single parent class, thus enabling code reusability and the addition of new features to existing code.\n",
    "\n",
    "#Base class\n",
    "class base:\n",
    "    \n",
    "    def funct1(self):\n",
    "        return(\"I am base class\")\n",
    "        \n",
    "#Derived class\n",
    "class derived(base) :\n",
    "    \n",
    "    def funct2(self) :\n",
    "        return(\"I am derived class\")\n",
    "        "
   ]
  },
  {
   "cell_type": "code",
   "execution_count": 8,
   "id": "dba3d10b-1caf-4615-9f50-ab1968262ee8",
   "metadata": {},
   "outputs": [],
   "source": [
    "instance = derived()"
   ]
  },
  {
   "cell_type": "code",
   "execution_count": 11,
   "id": "821b8b8c-052e-4af4-afca-ab59b7f84f67",
   "metadata": {},
   "outputs": [
    {
     "data": {
      "text/plain": [
       "'I am base class'"
      ]
     },
     "execution_count": 11,
     "metadata": {},
     "output_type": "execute_result"
    }
   ],
   "source": [
    "instance.funct1()"
   ]
  },
  {
   "cell_type": "code",
   "execution_count": 12,
   "id": "ef48109c-8918-418a-a7ca-ecc3372d027a",
   "metadata": {},
   "outputs": [
    {
     "data": {
      "text/plain": [
       "'I am derived class'"
      ]
     },
     "execution_count": 12,
     "metadata": {},
     "output_type": "execute_result"
    }
   ],
   "source": [
    "instance.funct2()"
   ]
  },
  {
   "cell_type": "code",
   "execution_count": 13,
   "id": "28635c94-c484-476b-8ce7-ca7204bc4f89",
   "metadata": {},
   "outputs": [],
   "source": [
    "\"\"\"Examples of Inheritance: \"\"\"\n",
    "#Multiple inheritance : When a class can be derived from more than one base class this type of inheritance is called multiple inheritances. \n",
    "#In multiple inheritances, all the features of the base classes are inherited into the derived class.\n",
    "#Base class 1\n",
    "class base1:\n",
    "    \n",
    "    def funct3(self):\n",
    "        return(\"I am base1\")\n",
    "    \n",
    "#Base class 2\n",
    "class base2 :\n",
    "\n",
    "    def funct4(self):\n",
    "        return(\"I am base2\")\n",
    "    \n",
    "#Derived class\n",
    "class derived(base1 , base2):\n",
    "    \n",
    "    def funct5(self):\n",
    "        return(\"I am derived class\")\n",
    "    "
   ]
  },
  {
   "cell_type": "code",
   "execution_count": 14,
   "id": "de27c98b-cc12-4a39-8fc4-becbf4f153a3",
   "metadata": {},
   "outputs": [],
   "source": [
    "object = derived()"
   ]
  },
  {
   "cell_type": "code",
   "execution_count": 15,
   "id": "3892461a-2f24-4fb5-bc45-fa964a18d4dc",
   "metadata": {},
   "outputs": [
    {
     "data": {
      "text/plain": [
       "'I am base1'"
      ]
     },
     "execution_count": 15,
     "metadata": {},
     "output_type": "execute_result"
    }
   ],
   "source": [
    "object.funct3()"
   ]
  },
  {
   "cell_type": "code",
   "execution_count": 16,
   "id": "ac89f53a-53e8-4ec3-b87c-d75a323c6a2c",
   "metadata": {},
   "outputs": [
    {
     "data": {
      "text/plain": [
       "'I am base2'"
      ]
     },
     "execution_count": 16,
     "metadata": {},
     "output_type": "execute_result"
    }
   ],
   "source": [
    "object.funct4()"
   ]
  },
  {
   "cell_type": "code",
   "execution_count": 17,
   "id": "3da1e277-9321-4a30-9789-4f29af5c90e2",
   "metadata": {},
   "outputs": [
    {
     "data": {
      "text/plain": [
       "'I am derived class'"
      ]
     },
     "execution_count": 17,
     "metadata": {},
     "output_type": "execute_result"
    }
   ],
   "source": [
    "object.funct5()"
   ]
  },
  {
   "cell_type": "code",
   "execution_count": 19,
   "id": "c8e15c1c-9888-4890-b1cd-9ccde804d9ad",
   "metadata": {},
   "outputs": [],
   "source": [
    "\"\"\"Examples of Inheritance: \"\"\"\n",
    "#Multilevel inheritance : In multilevel inheritance, features of the base class and the derived class are further inherited into the new derived class.\n",
    "#Base class\n",
    "class base3:\n",
    "    \n",
    "    def funct6(self):\n",
    "        return(\"I am base3\")\n",
    "    \n",
    "#Derived class\n",
    "class derived2(base3) :\n",
    "    \n",
    "    def funct7(self):\n",
    "        return(\"I  am derived2\")\n",
    "    \n",
    "#Second derived class\n",
    "class double_derived(derived2):\n",
    "    \n",
    "    def funct8(self):\n",
    "        return(\"I am double_derived\")\n",
    "    \n"
   ]
  },
  {
   "cell_type": "code",
   "execution_count": 21,
   "id": "400bb534-75ce-4368-8ee3-d2a012788a8f",
   "metadata": {},
   "outputs": [],
   "source": [
    "object1 = double_derived()"
   ]
  },
  {
   "cell_type": "code",
   "execution_count": 22,
   "id": "de6828aa-32ee-4b3f-b6f2-8f33115971a9",
   "metadata": {},
   "outputs": [
    {
     "data": {
      "text/plain": [
       "'I am base3'"
      ]
     },
     "execution_count": 22,
     "metadata": {},
     "output_type": "execute_result"
    }
   ],
   "source": [
    "object1.funct6()"
   ]
  },
  {
   "cell_type": "code",
   "execution_count": 23,
   "id": "ae970e92-19e8-41ce-9b1a-4809616703db",
   "metadata": {},
   "outputs": [
    {
     "data": {
      "text/plain": [
       "'I  am derived2'"
      ]
     },
     "execution_count": 23,
     "metadata": {},
     "output_type": "execute_result"
    }
   ],
   "source": [
    "object1.funct7()"
   ]
  },
  {
   "cell_type": "code",
   "execution_count": 24,
   "id": "ebaf35d5-a1d0-4d1b-888e-858c76d86233",
   "metadata": {},
   "outputs": [
    {
     "data": {
      "text/plain": [
       "'I am double_derived'"
      ]
     },
     "execution_count": 24,
     "metadata": {},
     "output_type": "execute_result"
    }
   ],
   "source": [
    "object1.funct8()"
   ]
  },
  {
   "cell_type": "code",
   "execution_count": 25,
   "id": "8bcef6ad-abe8-4a85-99e7-22e57c63b73f",
   "metadata": {},
   "outputs": [],
   "source": [
    "\"\"\"Examples of Inheritance: \"\"\"\n",
    "#Hierarchical inheritance : When more than one derived class are created from a single base this type of inheritance is called hierarchical inheritance.\n",
    "\n",
    "#Base class\n",
    "class super_base:\n",
    "    \n",
    "    def function1(self):\n",
    "        return(\"I am the main base\")\n",
    "    \n",
    "#Hierarchical class\n",
    "class sub_derivative1:\n",
    "    \n",
    "    def function2(super_base):\n",
    "        return(\"I am the first function derived from super_base\")\n",
    "\n",
    "class sub_derivative2:\n",
    "    \n",
    "    def function3(super_base):\n",
    "        return(\"I am the second function derived from super_base\")\n",
    "\n",
    "class sub_derivative3:\n",
    "    \n",
    "    def function4(super_base):\n",
    "        return(\"I am the second function derived from super_base\")\n"
   ]
  },
  {
   "cell_type": "code",
   "execution_count": 26,
   "id": "76ec02e6-51ff-48e9-88d9-8ad00151b371",
   "metadata": {},
   "outputs": [],
   "source": [
    "final_instance1 = sub_derivative1()"
   ]
  },
  {
   "cell_type": "code",
   "execution_count": 27,
   "id": "b6e88434-7aa1-4d36-a289-a788a8d1ca70",
   "metadata": {},
   "outputs": [],
   "source": [
    "final_instance2 = sub_derivative2()"
   ]
  },
  {
   "cell_type": "code",
   "execution_count": 28,
   "id": "06791d55-23bf-44a4-bb44-8d9cdce0c7d5",
   "metadata": {},
   "outputs": [],
   "source": [
    "final_instance3 = sub_derivative3()"
   ]
  },
  {
   "cell_type": "code",
   "execution_count": 29,
   "id": "f7a4b468-60d9-4096-9911-9c7610355069",
   "metadata": {},
   "outputs": [
    {
     "data": {
      "text/plain": [
       "'I am the first function derived from super_base'"
      ]
     },
     "execution_count": 29,
     "metadata": {},
     "output_type": "execute_result"
    }
   ],
   "source": [
    "final_instance1.function2()"
   ]
  },
  {
   "cell_type": "code",
   "execution_count": 30,
   "id": "73e9eba2-c8ba-4585-bc3f-daddc69ebae6",
   "metadata": {},
   "outputs": [
    {
     "data": {
      "text/plain": [
       "'I am the second function derived from super_base'"
      ]
     },
     "execution_count": 30,
     "metadata": {},
     "output_type": "execute_result"
    }
   ],
   "source": [
    "final_instance2.function3()"
   ]
  },
  {
   "cell_type": "code",
   "execution_count": 32,
   "id": "cfbe4392-91b3-4e78-9638-fcf3f393df80",
   "metadata": {},
   "outputs": [
    {
     "data": {
      "text/plain": [
       "'I am the second function derived from super_base'"
      ]
     },
     "execution_count": 32,
     "metadata": {},
     "output_type": "execute_result"
    }
   ],
   "source": [
    "final_instance3.function4()"
   ]
  },
  {
   "cell_type": "code",
   "execution_count": 40,
   "id": "8c89eb15-abad-453f-af16-88743a5dbf71",
   "metadata": {},
   "outputs": [],
   "source": [
    "\"\"\"Examples of Inheritance: \"\"\"\n",
    "#Hybrid inheritance : Inheritance consisting of multiple types of inheritance is called hybrid inheritance.\n",
    "#Company class\n",
    "class company :\n",
    "    \n",
    "    def employee(self):\n",
    "        return(\"I am employee\")\n",
    "    \n",
    "#Department class\n",
    "class department1 :\n",
    "    \n",
    "    def employee1(company) :\n",
    "        return(\"I work in department1\") \n",
    "    \n",
    "class department2 :\n",
    "    \n",
    "    def employee2(company) :\n",
    "        return(\"I work in department2\") \n",
    "    \n",
    "class department3 :\n",
    "    \n",
    "    def employee3(company, department2) :\n",
    "        return(\"I work in company's department2\") "
   ]
  },
  {
   "cell_type": "code",
   "execution_count": 41,
   "id": "b42c9443-3ad9-4dad-a971-1d5be6034458",
   "metadata": {},
   "outputs": [],
   "source": [
    "rohan = department3()"
   ]
  },
  {
   "cell_type": "code",
   "execution_count": 44,
   "id": "e9e24a6a-7e15-4d7e-922a-b05a51c17ca5",
   "metadata": {},
   "outputs": [
    {
     "data": {
      "text/plain": [
       "\"I work in company's department2\""
      ]
     },
     "execution_count": 44,
     "metadata": {},
     "output_type": "execute_result"
    }
   ],
   "source": [
    "rohan.employee3(department2)"
   ]
  },
  {
   "cell_type": "code",
   "execution_count": 45,
   "id": "b029779e-5c39-4cfa-9073-06e032d74ca7",
   "metadata": {},
   "outputs": [
    {
     "data": {
      "text/plain": [
       "\"I work in company's department2\""
      ]
     },
     "execution_count": 45,
     "metadata": {},
     "output_type": "execute_result"
    }
   ],
   "source": [
    "rohan.employee3(company)"
   ]
  },
  {
   "cell_type": "code",
   "execution_count": null,
   "id": "6af1b5c3-eaa4-4c99-9377-ff11a60ba4ce",
   "metadata": {},
   "outputs": [],
   "source": []
  }
 ],
 "metadata": {
  "kernelspec": {
   "display_name": "Python 3 (ipykernel)",
   "language": "python",
   "name": "python3"
  },
  "language_info": {
   "codemirror_mode": {
    "name": "ipython",
    "version": 3
   },
   "file_extension": ".py",
   "mimetype": "text/x-python",
   "name": "python",
   "nbconvert_exporter": "python",
   "pygments_lexer": "ipython3",
   "version": "3.10.8"
  }
 },
 "nbformat": 4,
 "nbformat_minor": 5
}
