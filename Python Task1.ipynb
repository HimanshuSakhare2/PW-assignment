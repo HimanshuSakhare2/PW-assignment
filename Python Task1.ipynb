{
 "cells": [
  {
   "cell_type": "code",
   "execution_count": 1,
   "id": "c029d086-81fb-4451-bf61-a4dc0847a76c",
   "metadata": {},
   "outputs": [
    {
     "data": {
      "text/plain": [
       "'Q1. Create a function which will take a list as an argument and return the product of all the numbers after creating a flat list.\\nUse the below-given list as an argument for your function.\\nlist1 = [1,2,3,4, [44,55,66, True], False, (34,56,78,89,34), {1,2,3,3,2,1}, {1:34, \"key2\": [55, 67, 78, 89], 4: (45, 22, 61, 34)}, [56, \\'data science\\'], \\'Machine Learning\\']\\nNote: you must extract numeric keys and values of the dictionary also.'"
      ]
     },
     "execution_count": 1,
     "metadata": {},
     "output_type": "execute_result"
    }
   ],
   "source": [
    "\"\"\"Q1. Create a function which will take a list as an argument and return the product of all the numbers after creating a flat list.\n",
    "Use the below-given list as an argument for your function.\n",
    "list1 = [1,2,3,4, [44,55,66, True], False, (34,56,78,89,34), {1,2,3,3,2,1}, {1:34, \"key2\": [55, 67, 78, 89], 4: (45, 22, 61, 34)}, [56, 'data science'], 'Machine Learning']\n",
    "Note: you must extract numeric keys and values of the dictionary also.\"\"\""
   ]
  },
  {
   "cell_type": "code",
   "execution_count": 12,
   "id": "620f219f-17a6-4b4c-9f63-8257c769b37f",
   "metadata": {},
   "outputs": [],
   "source": [
    "list1 = [1,2,3,4,[44,55,66, True], False, (34,56,78,89,34), {1,2,3,3,2,1},{1:34, \"key2\": [55, 67, 78, 89], 4: (45, 22, 61, 34)}, [56, 'data science'], 'Machine Learning']"
   ]
  },
  {
   "cell_type": "code",
   "execution_count": 32,
   "id": "9cac4e6c-1c9f-4b52-bef3-564619e90c0c",
   "metadata": {},
   "outputs": [],
   "source": [
    "def list_for_product(list1):\n",
    "    numbers = []\n",
    "    for num in list1 :\n",
    "        if num==False:\n",
    "            pass\n",
    "        elif isinstance(num, (list, tuple)) :\n",
    "            numbers.extend(num)\n",
    "        elif isinstance(num, set) :\n",
    "                numbers.extend(num)\n",
    "        elif isinstance(num, dict) :\n",
    "            for key, value in num.items() :\n",
    "                if isinstance(key, int) :\n",
    "                    numbers.append(key)\n",
    "                if isinstance(value, int) :\n",
    "                    numbers.append(value)\n",
    "                if isinstance(value, (list, tuple)) :\n",
    "                    numbers.extend(value)\n",
    "        elif isinstance(num , int) :\n",
    "            numbers.append(num)\n",
    "    product = 1\n",
    "    \n",
    "    for num1 in numbers :\n",
    "        if type(num1) == int or type(num1) == float :\n",
    "            product *= num1\n",
    "        \n",
    "    return product\n"
   ]
  },
  {
   "cell_type": "code",
   "execution_count": 33,
   "id": "3b2b6b80-4eaf-483b-b1c4-d01fc6344381",
   "metadata": {},
   "outputs": [
    {
     "data": {
      "text/plain": [
       "4134711838987085478833841242112000"
      ]
     },
     "execution_count": 33,
     "metadata": {},
     "output_type": "execute_result"
    }
   ],
   "source": [
    "list_for_product(list1)"
   ]
  },
  {
   "cell_type": "code",
   "execution_count": 34,
   "id": "842028e9-3117-44f6-b49c-23a02039bec1",
   "metadata": {},
   "outputs": [
    {
     "data": {
      "text/plain": [
       "'Q2. Write a python program for encrypting a message sent to you by your friend. The logic of encryption should be such that, for a the output should be z. \\nFor b, the output should be y. For c, the output should be x respectively. Also, the whitespace should be replaced with a dollar sign. \\nKeep the punctuation marks unchanged.\\nInput Sentence: I want to become a Data Scientist.\\nEncrypt the above input sentence using the program you just created.\\nNote: Convert the given input sentence into lowercase before encrypting. The final output should be lowercase.'"
      ]
     },
     "execution_count": 34,
     "metadata": {},
     "output_type": "execute_result"
    }
   ],
   "source": [
    "\"\"\"Q2. Write a python program for encrypting a message sent to you by your friend. The logic of encryption should be such that, for a the output should be z. \n",
    "For b, the output should be y. For c, the output should be x respectively. Also, the whitespace should be replaced with a dollar sign. \n",
    "Keep the punctuation marks unchanged.\n",
    "Input Sentence: I want to become a Data Scientist.\n",
    "Encrypt the above input sentence using the program you just created.\n",
    "Note: Convert the given input sentence into lowercase before encrypting. The final output should be lowercase.\"\"\""
   ]
  },
  {
   "cell_type": "code",
   "execution_count": 39,
   "id": "a971e254-fe53-4ec9-bb85-d042a50290f1",
   "metadata": {},
   "outputs": [
    {
     "data": {
      "text/plain": [
       "97"
      ]
     },
     "execution_count": 39,
     "metadata": {},
     "output_type": "execute_result"
    }
   ],
   "source": [
    "ord(\"a\")"
   ]
  },
  {
   "cell_type": "code",
   "execution_count": 59,
   "id": "e1461882-a974-4144-91cc-bc14ed433f5b",
   "metadata": {},
   "outputs": [],
   "source": [
    "def encry(msg):\n",
    "    encry_msg=\"\"\n",
    "    for x in msg :\n",
    "        if x == \" \" :\n",
    "            encry_msg += \"$\"\n",
    "        elif ord(x)>=97 and ord(x)<=122:\n",
    "            encry_msg += chr(123-(ord(x)-96))\n",
    "        elif ord(x) >= 65 and ord(x) <= 91:\n",
    "            encry_msg += chr(91-(ord(x)-64))\n",
    "        else:\n",
    "            encry_msg += x\n",
    "    return(encry_msg)"
   ]
  },
  {
   "cell_type": "code",
   "execution_count": 60,
   "id": "ec32a358-76a0-497e-a13a-a6302a0ae7bc",
   "metadata": {},
   "outputs": [
    {
     "data": {
      "text/plain": [
       "'R$dzmg$gl$yvxlnv$z$Wzgz$Hxrvmgrhg.'"
      ]
     },
     "execution_count": 60,
     "metadata": {},
     "output_type": "execute_result"
    }
   ],
   "source": [
    "encry(\"I want to become a Data Scientist.\")"
   ]
  },
  {
   "cell_type": "code",
   "execution_count": null,
   "id": "30dd566b-8811-4082-a406-36a7af7735c5",
   "metadata": {},
   "outputs": [],
   "source": []
  },
  {
   "cell_type": "code",
   "execution_count": null,
   "id": "dfe8d425-9a91-4708-9233-625ed312ebb8",
   "metadata": {},
   "outputs": [],
   "source": []
  },
  {
   "cell_type": "code",
   "execution_count": null,
   "id": "356964fc-9142-4f06-a962-cde354386dcf",
   "metadata": {},
   "outputs": [],
   "source": []
  }
 ],
 "metadata": {
  "kernelspec": {
   "display_name": "Python 3 (ipykernel)",
   "language": "python",
   "name": "python3"
  },
  "language_info": {
   "codemirror_mode": {
    "name": "ipython",
    "version": 3
   },
   "file_extension": ".py",
   "mimetype": "text/x-python",
   "name": "python",
   "nbconvert_exporter": "python",
   "pygments_lexer": "ipython3",
   "version": "3.10.8"
  }
 },
 "nbformat": 4,
 "nbformat_minor": 5
}
