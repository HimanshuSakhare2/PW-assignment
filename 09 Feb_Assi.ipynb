{
 "cells": [
  {
   "cell_type": "code",
   "execution_count": 2,
   "id": "fee475db-f151-4766-ae40-c1b669ac97a3",
   "metadata": {},
   "outputs": [],
   "source": [
    "#Q1. Create a vehicle class with an init method having instance variables as name_of_vehicle, max_speed and average_of_vehicle.\n",
    "\n",
    "class vehicle :\n",
    "    \n",
    "    def __init__(self, name_of_vehicle, max_speed, average_of_vehicle) :\n",
    "        self.name_of_vehicle = name_of_vehicle\n",
    "        self.max_speed = max_speed\n",
    "        self.average_of_vehicle = average_of_vehicle\n",
    "    "
   ]
  },
  {
   "cell_type": "code",
   "execution_count": 43,
   "id": "bd4cfa66-9fb2-4670-b99f-e4470661eb3f",
   "metadata": {},
   "outputs": [],
   "source": [
    "#Q2. Create a child class car from the vehicle class created in Que 1, which will inherit the vehicle class.\n",
    "#Create a method named seating_capacity which takes capacity as an argument and returns the name of the vehicle and its seating capacity.\n",
    "\n",
    "class car(vehicle) :\n",
    "    \n",
    "    def __init__(self, name_of_vehicle, max_speed, average_of_vehicle, seating_capacity) :\n",
    "        super().__init__(name_of_vehicle, max_speed, average_of_vehicle)\n",
    "        self.seating_capacity = seating_capacity\n",
    "        \n",
    "    def display(self) :\n",
    "        return self.seating_capacity, self.name_of_vehicle\n",
    "               \n",
    "        "
   ]
  },
  {
   "cell_type": "code",
   "execution_count": 44,
   "id": "ae3a0ee1-57e7-4063-a785-d2a76eea80b9",
   "metadata": {},
   "outputs": [],
   "source": [
    "car1 = car(\"Toyota\", 320, 120, 5)"
   ]
  },
  {
   "cell_type": "code",
   "execution_count": 46,
   "id": "ec344260-e947-415c-b495-3d7c0370a9a2",
   "metadata": {},
   "outputs": [
    {
     "data": {
      "text/plain": [
       "(5, 'Toyota')"
      ]
     },
     "execution_count": 46,
     "metadata": {},
     "output_type": "execute_result"
    }
   ],
   "source": [
    "car1.display()"
   ]
  },
  {
   "cell_type": "code",
   "execution_count": 47,
   "id": "ab062df2-534e-4fdb-aeb2-807ccacf7167",
   "metadata": {},
   "outputs": [
    {
     "data": {
      "text/plain": [
       "'Multiple inheritance mean when there are more than one parent class from which the child class is inheriting its features.\\nEx: A child will inherit his genetic features from his father and mother'"
      ]
     },
     "execution_count": 47,
     "metadata": {},
     "output_type": "execute_result"
    }
   ],
   "source": [
    "#Q3. What is multiple inheritance? Write a python code to demonstrate multiple inheritance.\n",
    "\"\"\"Multiple inheritance mean when there are more than one parent class from which the child class is inheriting its features.\n",
    "Ex: A child will inherit his genetic features from his father and mother\"\"\""
   ]
  },
  {
   "cell_type": "code",
   "execution_count": 1,
   "id": "70c88a42-7c20-4482-be63-20ca6a1cb16b",
   "metadata": {},
   "outputs": [],
   "source": [
    "#Parent classes of father and mother\n",
    "\n",
    "class father:\n",
    "    \n",
    "    def __init__(self, hair_color, eye_color) :\n",
    "        self.hair_color = hair_color\n",
    "        self.eye_color = eye_color\n",
    "        \n",
    "class mother :\n",
    "    \n",
    "    def __init__(self, skin_color, blood_group) :\n",
    "        self.skin_color = skin_color\n",
    "        self.blood_group = blood_group\n",
    "        \n",
    "#Child class of Parent's son/daughter\n",
    "\n",
    "class child(father, mother):\n",
    "    def __init__(self, hair_color, eye_color, skin_color, blood_group) :\n",
    "        father.__init__(self, hair_color, eye_color)\n",
    "        mother.__init__(self, skin_color, blood_group)\n",
    "        \n",
    "    def output(self):\n",
    "        print(\"hair color: \", self.hair_color)\n",
    "        print(\"blood gorup: \", self.blood_group)\n",
    "    "
   ]
  },
  {
   "cell_type": "code",
   "execution_count": 2,
   "id": "94df645a-ec42-4f11-985d-47eb6f2b4db4",
   "metadata": {},
   "outputs": [],
   "source": [
    "Akash = father(\"black\", \"brown\")"
   ]
  },
  {
   "cell_type": "code",
   "execution_count": 3,
   "id": "6dd107d2-edb1-4623-8a03-f863f59a7a9c",
   "metadata": {},
   "outputs": [],
   "source": [
    "supriya = mother(\"white\", \"B+\")"
   ]
  },
  {
   "cell_type": "code",
   "execution_count": 7,
   "id": "0a90bff8-281f-41c4-8ee5-0341bf5861bf",
   "metadata": {},
   "outputs": [],
   "source": [
    "yash = child(\"black\", \"brown\",\"white\", \"B+\")"
   ]
  },
  {
   "cell_type": "code",
   "execution_count": 8,
   "id": "b6e93ef4-6673-4ff5-8dfb-05245ab84eda",
   "metadata": {},
   "outputs": [
    {
     "name": "stdout",
     "output_type": "stream",
     "text": [
      "hair color:  black\n",
      "blood gorup:  B+\n"
     ]
    }
   ],
   "source": [
    "yash.output()"
   ]
  },
  {
   "cell_type": "code",
   "execution_count": 11,
   "id": "6706bd5f-5262-45a9-b552-127bbc36b6e6",
   "metadata": {},
   "outputs": [
    {
     "data": {
      "text/plain": [
       "'Q4. What are getter and setter in python? Create a class and create a getter and a setter method in this class.'"
      ]
     },
     "execution_count": 11,
     "metadata": {},
     "output_type": "execute_result"
    }
   ],
   "source": [
    "\"\"\"Q4. What are getter and setter in python? Create a class and create a getter and a setter method in this class.\"\"\"\n",
    "#Getter: A method that allows you to access an attribute in a given class\n",
    "#Setter: A method that allows you to set or mutate the value of an attribute in a class"
   ]
  },
  {
   "cell_type": "code",
   "execution_count": 54,
   "id": "4057d69e-95fc-48b5-ba97-5ef6c1f53fb9",
   "metadata": {},
   "outputs": [],
   "source": [
    "class bank :\n",
    "    def __init__(self, balance, client_id) :\n",
    "        \n",
    "        self.balance = balance\n",
    "        self.__client_id = client_id\n",
    "        \n",
    "    @property\n",
    "    def client_detail_change(self) :\n",
    "        return self.__client_id\n",
    "    \n",
    "    @client_detail_change.setter\n",
    "    def set1_client_id(self, detail) :\n",
    "        self.__client_id = detail\n",
    "        \n",
    "    @client_detail_change.getter\n",
    "    def get_client_id(self) :\n",
    "        return self.__client_id\n",
    "        "
   ]
  },
  {
   "cell_type": "code",
   "execution_count": 55,
   "id": "74e94cca-63dc-4404-a1b4-dee02d79953b",
   "metadata": {},
   "outputs": [],
   "source": [
    "raj = bank(5000, \"ab123456\")"
   ]
  },
  {
   "cell_type": "code",
   "execution_count": 56,
   "id": "593edefa-020d-4e2e-b0a4-b9af5a202b44",
   "metadata": {},
   "outputs": [
    {
     "data": {
      "text/plain": [
       "'ab123456'"
      ]
     },
     "execution_count": 56,
     "metadata": {},
     "output_type": "execute_result"
    }
   ],
   "source": [
    "raj.client_detail_change"
   ]
  },
  {
   "cell_type": "code",
   "execution_count": 57,
   "id": "584c73e5-f5ad-430d-8fc6-376e1e0c13a1",
   "metadata": {},
   "outputs": [],
   "source": [
    "amit = bank(4500, \"ba54321\")"
   ]
  },
  {
   "cell_type": "code",
   "execution_count": 59,
   "id": "2f7b0277-a77d-4b2f-a263-7f4d648de31d",
   "metadata": {},
   "outputs": [],
   "source": [
    "amit.set1_client_id = \"ab654321\""
   ]
  },
  {
   "cell_type": "code",
   "execution_count": 60,
   "id": "baf0bf8e-99ef-43d4-8576-9f4de0ff7cf6",
   "metadata": {},
   "outputs": [
    {
     "data": {
      "text/plain": [
       "'ab654321'"
      ]
     },
     "execution_count": 60,
     "metadata": {},
     "output_type": "execute_result"
    }
   ],
   "source": [
    "amit.get_client_id"
   ]
  },
  {
   "cell_type": "code",
   "execution_count": 61,
   "id": "0275c652-889d-4467-8ea6-a3ab6d0fccc3",
   "metadata": {},
   "outputs": [
    {
     "data": {
      "text/plain": [
       "'Method overriding is a concept in object-oriented programming where a subclass provides its own \\nimplementation of a method that is already defined in its superclass. This allows the subclass to modify or\\nextend the behavior of the inherited method.'"
      ]
     },
     "execution_count": 61,
     "metadata": {},
     "output_type": "execute_result"
    }
   ],
   "source": [
    "\"\"\"Q5.What is method overriding in python? Write a python code to demonstrate method overriding.\"\"\"\n",
    "\n",
    "\"\"\"Method overriding is a concept in object-oriented programming where a subclass provides its own \n",
    "implementation of a method that is already defined in its superclass. This allows the subclass to modify or\n",
    "extend the behavior of the inherited method.\"\"\""
   ]
  },
  {
   "cell_type": "code",
   "execution_count": null,
   "id": "19cdf121-5e1b-44fd-8e5b-9f90736e9be9",
   "metadata": {},
   "outputs": [],
   "source": []
  }
 ],
 "metadata": {
  "kernelspec": {
   "display_name": "Python 3 (ipykernel)",
   "language": "python",
   "name": "python3"
  },
  "language_info": {
   "codemirror_mode": {
    "name": "ipython",
    "version": 3
   },
   "file_extension": ".py",
   "mimetype": "text/x-python",
   "name": "python",
   "nbconvert_exporter": "python",
   "pygments_lexer": "ipython3",
   "version": "3.10.8"
  }
 },
 "nbformat": 4,
 "nbformat_minor": 5
}
